{
 "cells": [
  {
   "cell_type": "code",
   "execution_count": 1,
   "id": "eb2d2387",
   "metadata": {
    "_cell_guid": "b1076dfc-b9ad-4769-8c92-a6c4dae69d19",
    "_uuid": "8f2839f25d086af736a60e9eeb907d3b93b6e0e5",
    "execution": {
     "iopub.execute_input": "2023-02-03T16:41:15.310917Z",
     "iopub.status.busy": "2023-02-03T16:41:15.310451Z",
     "iopub.status.idle": "2023-02-03T16:41:15.329155Z",
     "shell.execute_reply": "2023-02-03T16:41:15.326981Z"
    },
    "papermill": {
     "duration": 0.03659,
     "end_time": "2023-02-03T16:41:15.332580",
     "exception": false,
     "start_time": "2023-02-03T16:41:15.295990",
     "status": "completed"
    },
    "tags": []
   },
   "outputs": [
    {
     "name": "stdout",
     "output_type": "stream",
     "text": [
      "/kaggle/input/superstore-dataset-final/Sample - Superstore.csv\n"
     ]
    }
   ],
   "source": [
    "# This Python 3 environment comes with many helpful analytics libraries installed\n",
    "# It is defined by the kaggle/python Docker image: https://github.com/kaggle/docker-python\n",
    "# For example, here's several helpful packages to load\n",
    "\n",
    "import numpy as np # linear algebra\n",
    "import pandas as pd # data processing, CSV file I/O (e.g. pd.read_csv)\n",
    "\n",
    "# Input data files are available in the read-only \"../input/\" directory\n",
    "# For example, running this (by clicking run or pressing Shift+Enter) will list all files under the input directory\n",
    "\n",
    "import os\n",
    "for dirname, _, filenames in os.walk('/kaggle/input'):\n",
    "    for filename in filenames:\n",
    "        print(os.path.join(dirname, filename))\n",
    "\n",
    "# You can write up to 20GB to the current directory (/kaggle/working/) that gets preserved as output when you create a version using \"Save & Run All\" \n",
    "# You can also write temporary files to /kaggle/temp/, but they won't be saved outside of the current session"
   ]
  },
  {
   "cell_type": "markdown",
   "id": "f2311392",
   "metadata": {
    "papermill": {
     "duration": 0.014266,
     "end_time": "2023-02-03T16:41:15.359039",
     "exception": false,
     "start_time": "2023-02-03T16:41:15.344773",
     "status": "completed"
    },
    "tags": []
   },
   "source": [
    "# **Importing Libraries**"
   ]
  },
  {
   "cell_type": "code",
   "execution_count": 2,
   "id": "0967134c",
   "metadata": {
    "execution": {
     "iopub.execute_input": "2023-02-03T16:41:15.385383Z",
     "iopub.status.busy": "2023-02-03T16:41:15.384274Z",
     "iopub.status.idle": "2023-02-03T16:41:17.029380Z",
     "shell.execute_reply": "2023-02-03T16:41:17.027384Z"
    },
    "papermill": {
     "duration": 1.661143,
     "end_time": "2023-02-03T16:41:17.032189",
     "exception": false,
     "start_time": "2023-02-03T16:41:15.371046",
     "status": "completed"
    },
    "tags": []
   },
   "outputs": [],
   "source": [
    "import numpy as np \n",
    "import pandas as pd\n",
    "import seaborn as sns\n",
    "import matplotlib.pyplot as plt\n",
    "from sklearn.preprocessing import LabelEncoder\n",
    "from sklearn.model_selection import train_test_split\n",
    "from sklearn.linear_model import LinearRegression\n",
    "from sklearn.neighbors import KNeighborsRegressor\n",
    "from sklearn.metrics import mean_squared_error\n",
    "from sklearn.tree import DecisionTreeRegressor\n",
    "from sklearn.model_selection import GridSearchCV, RandomizedSearchCV\n",
    "from sklearn.ensemble import RandomForestRegressor \n"
   ]
  },
  {
   "cell_type": "markdown",
   "id": "990c0ad2",
   "metadata": {
    "papermill": {
     "duration": 0.01322,
     "end_time": "2023-02-03T16:41:17.057489",
     "exception": false,
     "start_time": "2023-02-03T16:41:17.044269",
     "status": "completed"
    },
    "tags": []
   },
   "source": [
    "# **Loading Data**"
   ]
  },
  {
   "cell_type": "code",
   "execution_count": 3,
   "id": "e60c40a5",
   "metadata": {
    "execution": {
     "iopub.execute_input": "2023-02-03T16:41:17.084340Z",
     "iopub.status.busy": "2023-02-03T16:41:17.083887Z",
     "iopub.status.idle": "2023-02-03T16:41:17.200454Z",
     "shell.execute_reply": "2023-02-03T16:41:17.199190Z"
    },
    "papermill": {
     "duration": 0.133492,
     "end_time": "2023-02-03T16:41:17.203237",
     "exception": false,
     "start_time": "2023-02-03T16:41:17.069745",
     "status": "completed"
    },
    "tags": []
   },
   "outputs": [
    {
     "data": {
      "text/html": [
       "<div>\n",
       "<style scoped>\n",
       "    .dataframe tbody tr th:only-of-type {\n",
       "        vertical-align: middle;\n",
       "    }\n",
       "\n",
       "    .dataframe tbody tr th {\n",
       "        vertical-align: top;\n",
       "    }\n",
       "\n",
       "    .dataframe thead th {\n",
       "        text-align: right;\n",
       "    }\n",
       "</style>\n",
       "<table border=\"1\" class=\"dataframe\">\n",
       "  <thead>\n",
       "    <tr style=\"text-align: right;\">\n",
       "      <th></th>\n",
       "      <th>Row ID</th>\n",
       "      <th>Order ID</th>\n",
       "      <th>Order Date</th>\n",
       "      <th>Ship Date</th>\n",
       "      <th>Ship Mode</th>\n",
       "      <th>Customer ID</th>\n",
       "      <th>Customer Name</th>\n",
       "      <th>Segment</th>\n",
       "      <th>Country</th>\n",
       "      <th>City</th>\n",
       "      <th>...</th>\n",
       "      <th>Postal Code</th>\n",
       "      <th>Region</th>\n",
       "      <th>Product ID</th>\n",
       "      <th>Category</th>\n",
       "      <th>Sub-Category</th>\n",
       "      <th>Product Name</th>\n",
       "      <th>Sales</th>\n",
       "      <th>Quantity</th>\n",
       "      <th>Discount</th>\n",
       "      <th>Profit</th>\n",
       "    </tr>\n",
       "  </thead>\n",
       "  <tbody>\n",
       "    <tr>\n",
       "      <th>0</th>\n",
       "      <td>1</td>\n",
       "      <td>CA-2016-152156</td>\n",
       "      <td>11/8/2016</td>\n",
       "      <td>11/11/2016</td>\n",
       "      <td>Second Class</td>\n",
       "      <td>CG-12520</td>\n",
       "      <td>Claire Gute</td>\n",
       "      <td>Consumer</td>\n",
       "      <td>United States</td>\n",
       "      <td>Henderson</td>\n",
       "      <td>...</td>\n",
       "      <td>42420</td>\n",
       "      <td>South</td>\n",
       "      <td>FUR-BO-10001798</td>\n",
       "      <td>Furniture</td>\n",
       "      <td>Bookcases</td>\n",
       "      <td>Bush Somerset Collection Bookcase</td>\n",
       "      <td>261.9600</td>\n",
       "      <td>2</td>\n",
       "      <td>0.00</td>\n",
       "      <td>41.9136</td>\n",
       "    </tr>\n",
       "    <tr>\n",
       "      <th>1</th>\n",
       "      <td>2</td>\n",
       "      <td>CA-2016-152156</td>\n",
       "      <td>11/8/2016</td>\n",
       "      <td>11/11/2016</td>\n",
       "      <td>Second Class</td>\n",
       "      <td>CG-12520</td>\n",
       "      <td>Claire Gute</td>\n",
       "      <td>Consumer</td>\n",
       "      <td>United States</td>\n",
       "      <td>Henderson</td>\n",
       "      <td>...</td>\n",
       "      <td>42420</td>\n",
       "      <td>South</td>\n",
       "      <td>FUR-CH-10000454</td>\n",
       "      <td>Furniture</td>\n",
       "      <td>Chairs</td>\n",
       "      <td>Hon Deluxe Fabric Upholstered Stacking Chairs,...</td>\n",
       "      <td>731.9400</td>\n",
       "      <td>3</td>\n",
       "      <td>0.00</td>\n",
       "      <td>219.5820</td>\n",
       "    </tr>\n",
       "    <tr>\n",
       "      <th>2</th>\n",
       "      <td>3</td>\n",
       "      <td>CA-2016-138688</td>\n",
       "      <td>6/12/2016</td>\n",
       "      <td>6/16/2016</td>\n",
       "      <td>Second Class</td>\n",
       "      <td>DV-13045</td>\n",
       "      <td>Darrin Van Huff</td>\n",
       "      <td>Corporate</td>\n",
       "      <td>United States</td>\n",
       "      <td>Los Angeles</td>\n",
       "      <td>...</td>\n",
       "      <td>90036</td>\n",
       "      <td>West</td>\n",
       "      <td>OFF-LA-10000240</td>\n",
       "      <td>Office Supplies</td>\n",
       "      <td>Labels</td>\n",
       "      <td>Self-Adhesive Address Labels for Typewriters b...</td>\n",
       "      <td>14.6200</td>\n",
       "      <td>2</td>\n",
       "      <td>0.00</td>\n",
       "      <td>6.8714</td>\n",
       "    </tr>\n",
       "    <tr>\n",
       "      <th>3</th>\n",
       "      <td>4</td>\n",
       "      <td>US-2015-108966</td>\n",
       "      <td>10/11/2015</td>\n",
       "      <td>10/18/2015</td>\n",
       "      <td>Standard Class</td>\n",
       "      <td>SO-20335</td>\n",
       "      <td>Sean O'Donnell</td>\n",
       "      <td>Consumer</td>\n",
       "      <td>United States</td>\n",
       "      <td>Fort Lauderdale</td>\n",
       "      <td>...</td>\n",
       "      <td>33311</td>\n",
       "      <td>South</td>\n",
       "      <td>FUR-TA-10000577</td>\n",
       "      <td>Furniture</td>\n",
       "      <td>Tables</td>\n",
       "      <td>Bretford CR4500 Series Slim Rectangular Table</td>\n",
       "      <td>957.5775</td>\n",
       "      <td>5</td>\n",
       "      <td>0.45</td>\n",
       "      <td>-383.0310</td>\n",
       "    </tr>\n",
       "    <tr>\n",
       "      <th>4</th>\n",
       "      <td>5</td>\n",
       "      <td>US-2015-108966</td>\n",
       "      <td>10/11/2015</td>\n",
       "      <td>10/18/2015</td>\n",
       "      <td>Standard Class</td>\n",
       "      <td>SO-20335</td>\n",
       "      <td>Sean O'Donnell</td>\n",
       "      <td>Consumer</td>\n",
       "      <td>United States</td>\n",
       "      <td>Fort Lauderdale</td>\n",
       "      <td>...</td>\n",
       "      <td>33311</td>\n",
       "      <td>South</td>\n",
       "      <td>OFF-ST-10000760</td>\n",
       "      <td>Office Supplies</td>\n",
       "      <td>Storage</td>\n",
       "      <td>Eldon Fold 'N Roll Cart System</td>\n",
       "      <td>22.3680</td>\n",
       "      <td>2</td>\n",
       "      <td>0.20</td>\n",
       "      <td>2.5164</td>\n",
       "    </tr>\n",
       "  </tbody>\n",
       "</table>\n",
       "<p>5 rows × 21 columns</p>\n",
       "</div>"
      ],
      "text/plain": [
       "   Row ID        Order ID  Order Date   Ship Date       Ship Mode Customer ID  \\\n",
       "0       1  CA-2016-152156   11/8/2016  11/11/2016    Second Class    CG-12520   \n",
       "1       2  CA-2016-152156   11/8/2016  11/11/2016    Second Class    CG-12520   \n",
       "2       3  CA-2016-138688   6/12/2016   6/16/2016    Second Class    DV-13045   \n",
       "3       4  US-2015-108966  10/11/2015  10/18/2015  Standard Class    SO-20335   \n",
       "4       5  US-2015-108966  10/11/2015  10/18/2015  Standard Class    SO-20335   \n",
       "\n",
       "     Customer Name    Segment        Country             City  ...  \\\n",
       "0      Claire Gute   Consumer  United States        Henderson  ...   \n",
       "1      Claire Gute   Consumer  United States        Henderson  ...   \n",
       "2  Darrin Van Huff  Corporate  United States      Los Angeles  ...   \n",
       "3   Sean O'Donnell   Consumer  United States  Fort Lauderdale  ...   \n",
       "4   Sean O'Donnell   Consumer  United States  Fort Lauderdale  ...   \n",
       "\n",
       "  Postal Code  Region       Product ID         Category Sub-Category  \\\n",
       "0       42420   South  FUR-BO-10001798        Furniture    Bookcases   \n",
       "1       42420   South  FUR-CH-10000454        Furniture       Chairs   \n",
       "2       90036    West  OFF-LA-10000240  Office Supplies       Labels   \n",
       "3       33311   South  FUR-TA-10000577        Furniture       Tables   \n",
       "4       33311   South  OFF-ST-10000760  Office Supplies      Storage   \n",
       "\n",
       "                                        Product Name     Sales  Quantity  \\\n",
       "0                  Bush Somerset Collection Bookcase  261.9600         2   \n",
       "1  Hon Deluxe Fabric Upholstered Stacking Chairs,...  731.9400         3   \n",
       "2  Self-Adhesive Address Labels for Typewriters b...   14.6200         2   \n",
       "3      Bretford CR4500 Series Slim Rectangular Table  957.5775         5   \n",
       "4                     Eldon Fold 'N Roll Cart System   22.3680         2   \n",
       "\n",
       "   Discount    Profit  \n",
       "0      0.00   41.9136  \n",
       "1      0.00  219.5820  \n",
       "2      0.00    6.8714  \n",
       "3      0.45 -383.0310  \n",
       "4      0.20    2.5164  \n",
       "\n",
       "[5 rows x 21 columns]"
      ]
     },
     "execution_count": 3,
     "metadata": {},
     "output_type": "execute_result"
    }
   ],
   "source": [
    "df=pd.read_csv('../input/superstore-dataset-final/Sample - Superstore.csv', encoding='windows-1252')\n",
    "df.head()"
   ]
  },
  {
   "cell_type": "markdown",
   "id": "200e0242",
   "metadata": {
    "papermill": {
     "duration": 0.012639,
     "end_time": "2023-02-03T16:41:17.228280",
     "exception": false,
     "start_time": "2023-02-03T16:41:17.215641",
     "status": "completed"
    },
    "tags": []
   },
   "source": [
    "# **Columns**\n",
    "*  Order ID : Unique Order ID for each Customer.\n",
    "* Order Date : Order Date of the product.\n",
    "* Ship Date : Shipping Date of the Product.\n",
    "* Ship Mode : Shipping Mode specified by the Customer.\n",
    "* Customer ID : Unique ID to identify each Customer.\n",
    "* Customer Name : Name of the Customer.\n",
    "* Segment : The segment where the Customer belongs.\n",
    "* Country : Country of residence of the Customer.\n",
    "* City : City of residence of of the Customer.\n",
    "* State :  State of residence of the Customer.\n",
    "* Postal Code : Postal Code of every Customer.\n",
    "* Region : Region where the Customer belong.\n",
    "* Product ID : Unique ID of the Product.\n",
    "* Category : Category of the product ordered.\n",
    "* Sub-Category : Sub-Category of the product ordered.\n",
    "* Product Name : Name of the Product\n",
    "* Sales : Sales of the Product.\n",
    "* Quantity :  Quantity of the Product.\n",
    "* Discount : Discount provided.\n",
    "* Profit : Profit/Loss \n"
   ]
  },
  {
   "cell_type": "code",
   "execution_count": 4,
   "id": "2433c319",
   "metadata": {
    "execution": {
     "iopub.execute_input": "2023-02-03T16:41:17.255999Z",
     "iopub.status.busy": "2023-02-03T16:41:17.255505Z",
     "iopub.status.idle": "2023-02-03T16:41:17.261349Z",
     "shell.execute_reply": "2023-02-03T16:41:17.260085Z"
    },
    "papermill": {
     "duration": 0.02366,
     "end_time": "2023-02-03T16:41:17.264074",
     "exception": false,
     "start_time": "2023-02-03T16:41:17.240414",
     "status": "completed"
    },
    "tags": []
   },
   "outputs": [],
   "source": [
    "copy_df=df.copy()"
   ]
  },
  {
   "cell_type": "markdown",
   "id": "9bc54221",
   "metadata": {
    "papermill": {
     "duration": 0.012132,
     "end_time": "2023-02-03T16:41:17.288825",
     "exception": false,
     "start_time": "2023-02-03T16:41:17.276693",
     "status": "completed"
    },
    "tags": []
   },
   "source": [
    "# **Dimension of Data**"
   ]
  },
  {
   "cell_type": "code",
   "execution_count": 5,
   "id": "f15a3ba2",
   "metadata": {
    "execution": {
     "iopub.execute_input": "2023-02-03T16:41:17.316333Z",
     "iopub.status.busy": "2023-02-03T16:41:17.315333Z",
     "iopub.status.idle": "2023-02-03T16:41:17.322035Z",
     "shell.execute_reply": "2023-02-03T16:41:17.320722Z"
    },
    "papermill": {
     "duration": 0.023288,
     "end_time": "2023-02-03T16:41:17.324549",
     "exception": false,
     "start_time": "2023-02-03T16:41:17.301261",
     "status": "completed"
    },
    "tags": []
   },
   "outputs": [
    {
     "data": {
      "text/plain": [
       "(9994, 21)"
      ]
     },
     "execution_count": 5,
     "metadata": {},
     "output_type": "execute_result"
    }
   ],
   "source": [
    "df.shape"
   ]
  },
  {
   "cell_type": "markdown",
   "id": "8226fbd4",
   "metadata": {
    "papermill": {
     "duration": 0.011793,
     "end_time": "2023-02-03T16:41:17.348526",
     "exception": false,
     "start_time": "2023-02-03T16:41:17.336733",
     "status": "completed"
    },
    "tags": []
   },
   "source": [
    "* Data contains 9994 rows and 21 columns"
   ]
  },
  {
   "cell_type": "markdown",
   "id": "8f35047b",
   "metadata": {
    "papermill": {
     "duration": 0.011607,
     "end_time": "2023-02-03T16:41:17.371991",
     "exception": false,
     "start_time": "2023-02-03T16:41:17.360384",
     "status": "completed"
    },
    "tags": []
   },
   "source": [
    "# **Features of Data**"
   ]
  },
  {
   "cell_type": "code",
   "execution_count": 6,
   "id": "7cdd3295",
   "metadata": {
    "execution": {
     "iopub.execute_input": "2023-02-03T16:41:17.397994Z",
     "iopub.status.busy": "2023-02-03T16:41:17.397569Z",
     "iopub.status.idle": "2023-02-03T16:41:17.428726Z",
     "shell.execute_reply": "2023-02-03T16:41:17.427756Z"
    },
    "papermill": {
     "duration": 0.047249,
     "end_time": "2023-02-03T16:41:17.431135",
     "exception": false,
     "start_time": "2023-02-03T16:41:17.383886",
     "status": "completed"
    },
    "tags": []
   },
   "outputs": [
    {
     "name": "stdout",
     "output_type": "stream",
     "text": [
      "<class 'pandas.core.frame.DataFrame'>\n",
      "RangeIndex: 9994 entries, 0 to 9993\n",
      "Data columns (total 21 columns):\n",
      " #   Column         Non-Null Count  Dtype  \n",
      "---  ------         --------------  -----  \n",
      " 0   Row ID         9994 non-null   int64  \n",
      " 1   Order ID       9994 non-null   object \n",
      " 2   Order Date     9994 non-null   object \n",
      " 3   Ship Date      9994 non-null   object \n",
      " 4   Ship Mode      9994 non-null   object \n",
      " 5   Customer ID    9994 non-null   object \n",
      " 6   Customer Name  9994 non-null   object \n",
      " 7   Segment        9994 non-null   object \n",
      " 8   Country        9994 non-null   object \n",
      " 9   City           9994 non-null   object \n",
      " 10  State          9994 non-null   object \n",
      " 11  Postal Code    9994 non-null   int64  \n",
      " 12  Region         9994 non-null   object \n",
      " 13  Product ID     9994 non-null   object \n",
      " 14  Category       9994 non-null   object \n",
      " 15  Sub-Category   9994 non-null   object \n",
      " 16  Product Name   9994 non-null   object \n",
      " 17  Sales          9994 non-null   float64\n",
      " 18  Quantity       9994 non-null   int64  \n",
      " 19  Discount       9994 non-null   float64\n",
      " 20  Profit         9994 non-null   float64\n",
      "dtypes: float64(3), int64(3), object(15)\n",
      "memory usage: 1.6+ MB\n"
     ]
    }
   ],
   "source": [
    "df.info()"
   ]
  },
  {
   "cell_type": "markdown",
   "id": "a423ec2a",
   "metadata": {
    "papermill": {
     "duration": 0.011933,
     "end_time": "2023-02-03T16:41:17.455868",
     "exception": false,
     "start_time": "2023-02-03T16:41:17.443935",
     "status": "completed"
    },
    "tags": []
   },
   "source": [
    "# **Misssing Data**"
   ]
  },
  {
   "cell_type": "code",
   "execution_count": 7,
   "id": "eaebcdac",
   "metadata": {
    "execution": {
     "iopub.execute_input": "2023-02-03T16:41:17.482244Z",
     "iopub.status.busy": "2023-02-03T16:41:17.481714Z",
     "iopub.status.idle": "2023-02-03T16:41:17.496087Z",
     "shell.execute_reply": "2023-02-03T16:41:17.495084Z"
    },
    "papermill": {
     "duration": 0.030052,
     "end_time": "2023-02-03T16:41:17.498017",
     "exception": false,
     "start_time": "2023-02-03T16:41:17.467965",
     "status": "completed"
    },
    "tags": []
   },
   "outputs": [
    {
     "data": {
      "text/plain": [
       "Row ID           0\n",
       "Order ID         0\n",
       "Order Date       0\n",
       "Ship Date        0\n",
       "Ship Mode        0\n",
       "Customer ID      0\n",
       "Customer Name    0\n",
       "Segment          0\n",
       "Country          0\n",
       "City             0\n",
       "State            0\n",
       "Postal Code      0\n",
       "Region           0\n",
       "Product ID       0\n",
       "Category         0\n",
       "Sub-Category     0\n",
       "Product Name     0\n",
       "Sales            0\n",
       "Quantity         0\n",
       "Discount         0\n",
       "Profit           0\n",
       "dtype: int64"
      ]
     },
     "execution_count": 7,
     "metadata": {},
     "output_type": "execute_result"
    }
   ],
   "source": [
    "df.isnull().sum()"
   ]
  },
  {
   "cell_type": "code",
   "execution_count": 8,
   "id": "0ed173a4",
   "metadata": {
    "execution": {
     "iopub.execute_input": "2023-02-03T16:41:17.524338Z",
     "iopub.status.busy": "2023-02-03T16:41:17.523891Z",
     "iopub.status.idle": "2023-02-03T16:41:17.532146Z",
     "shell.execute_reply": "2023-02-03T16:41:17.530505Z"
    },
    "papermill": {
     "duration": 0.024999,
     "end_time": "2023-02-03T16:41:17.535108",
     "exception": false,
     "start_time": "2023-02-03T16:41:17.510109",
     "status": "completed"
    },
    "tags": []
   },
   "outputs": [],
   "source": [
    "df=df.set_index('Row ID')"
   ]
  },
  {
   "cell_type": "code",
   "execution_count": 9,
   "id": "eef4cf3c",
   "metadata": {
    "execution": {
     "iopub.execute_input": "2023-02-03T16:41:17.562605Z",
     "iopub.status.busy": "2023-02-03T16:41:17.562146Z",
     "iopub.status.idle": "2023-02-03T16:41:17.591422Z",
     "shell.execute_reply": "2023-02-03T16:41:17.590350Z"
    },
    "papermill": {
     "duration": 0.045657,
     "end_time": "2023-02-03T16:41:17.593345",
     "exception": false,
     "start_time": "2023-02-03T16:41:17.547688",
     "status": "completed"
    },
    "tags": []
   },
   "outputs": [
    {
     "data": {
      "text/plain": [
       "1"
      ]
     },
     "execution_count": 9,
     "metadata": {},
     "output_type": "execute_result"
    }
   ],
   "source": [
    "df.duplicated().sum()"
   ]
  },
  {
   "cell_type": "code",
   "execution_count": 10,
   "id": "08542cdb",
   "metadata": {
    "execution": {
     "iopub.execute_input": "2023-02-03T16:41:17.619043Z",
     "iopub.status.busy": "2023-02-03T16:41:17.618466Z",
     "iopub.status.idle": "2023-02-03T16:41:17.658676Z",
     "shell.execute_reply": "2023-02-03T16:41:17.656656Z"
    },
    "papermill": {
     "duration": 0.056421,
     "end_time": "2023-02-03T16:41:17.661606",
     "exception": false,
     "start_time": "2023-02-03T16:41:17.605185",
     "status": "completed"
    },
    "tags": []
   },
   "outputs": [
    {
     "data": {
      "text/html": [
       "<div>\n",
       "<style scoped>\n",
       "    .dataframe tbody tr th:only-of-type {\n",
       "        vertical-align: middle;\n",
       "    }\n",
       "\n",
       "    .dataframe tbody tr th {\n",
       "        vertical-align: top;\n",
       "    }\n",
       "\n",
       "    .dataframe thead th {\n",
       "        text-align: right;\n",
       "    }\n",
       "</style>\n",
       "<table border=\"1\" class=\"dataframe\">\n",
       "  <thead>\n",
       "    <tr style=\"text-align: right;\">\n",
       "      <th></th>\n",
       "      <th>Order ID</th>\n",
       "      <th>Order Date</th>\n",
       "      <th>Ship Date</th>\n",
       "      <th>Ship Mode</th>\n",
       "      <th>Customer ID</th>\n",
       "      <th>Customer Name</th>\n",
       "      <th>Segment</th>\n",
       "      <th>Country</th>\n",
       "      <th>City</th>\n",
       "      <th>State</th>\n",
       "      <th>Postal Code</th>\n",
       "      <th>Region</th>\n",
       "      <th>Product ID</th>\n",
       "      <th>Category</th>\n",
       "      <th>Sub-Category</th>\n",
       "      <th>Product Name</th>\n",
       "      <th>Sales</th>\n",
       "      <th>Quantity</th>\n",
       "      <th>Discount</th>\n",
       "      <th>Profit</th>\n",
       "    </tr>\n",
       "    <tr>\n",
       "      <th>Row ID</th>\n",
       "      <th></th>\n",
       "      <th></th>\n",
       "      <th></th>\n",
       "      <th></th>\n",
       "      <th></th>\n",
       "      <th></th>\n",
       "      <th></th>\n",
       "      <th></th>\n",
       "      <th></th>\n",
       "      <th></th>\n",
       "      <th></th>\n",
       "      <th></th>\n",
       "      <th></th>\n",
       "      <th></th>\n",
       "      <th></th>\n",
       "      <th></th>\n",
       "      <th></th>\n",
       "      <th></th>\n",
       "      <th></th>\n",
       "      <th></th>\n",
       "    </tr>\n",
       "  </thead>\n",
       "  <tbody>\n",
       "    <tr>\n",
       "      <th>3406</th>\n",
       "      <td>US-2014-150119</td>\n",
       "      <td>4/23/2014</td>\n",
       "      <td>4/27/2014</td>\n",
       "      <td>Standard Class</td>\n",
       "      <td>LB-16795</td>\n",
       "      <td>Laurel Beltran</td>\n",
       "      <td>Home Office</td>\n",
       "      <td>United States</td>\n",
       "      <td>Columbus</td>\n",
       "      <td>Ohio</td>\n",
       "      <td>43229</td>\n",
       "      <td>East</td>\n",
       "      <td>FUR-CH-10002965</td>\n",
       "      <td>Furniture</td>\n",
       "      <td>Chairs</td>\n",
       "      <td>Global Leather Highback Executive Chair with P...</td>\n",
       "      <td>281.372</td>\n",
       "      <td>2</td>\n",
       "      <td>0.3</td>\n",
       "      <td>-12.0588</td>\n",
       "    </tr>\n",
       "    <tr>\n",
       "      <th>3407</th>\n",
       "      <td>US-2014-150119</td>\n",
       "      <td>4/23/2014</td>\n",
       "      <td>4/27/2014</td>\n",
       "      <td>Standard Class</td>\n",
       "      <td>LB-16795</td>\n",
       "      <td>Laurel Beltran</td>\n",
       "      <td>Home Office</td>\n",
       "      <td>United States</td>\n",
       "      <td>Columbus</td>\n",
       "      <td>Ohio</td>\n",
       "      <td>43229</td>\n",
       "      <td>East</td>\n",
       "      <td>FUR-CH-10002965</td>\n",
       "      <td>Furniture</td>\n",
       "      <td>Chairs</td>\n",
       "      <td>Global Leather Highback Executive Chair with P...</td>\n",
       "      <td>281.372</td>\n",
       "      <td>2</td>\n",
       "      <td>0.3</td>\n",
       "      <td>-12.0588</td>\n",
       "    </tr>\n",
       "  </tbody>\n",
       "</table>\n",
       "</div>"
      ],
      "text/plain": [
       "              Order ID Order Date  Ship Date       Ship Mode Customer ID  \\\n",
       "Row ID                                                                     \n",
       "3406    US-2014-150119  4/23/2014  4/27/2014  Standard Class    LB-16795   \n",
       "3407    US-2014-150119  4/23/2014  4/27/2014  Standard Class    LB-16795   \n",
       "\n",
       "         Customer Name      Segment        Country      City State  \\\n",
       "Row ID                                                               \n",
       "3406    Laurel Beltran  Home Office  United States  Columbus  Ohio   \n",
       "3407    Laurel Beltran  Home Office  United States  Columbus  Ohio   \n",
       "\n",
       "        Postal Code Region       Product ID   Category Sub-Category  \\\n",
       "Row ID                                                                \n",
       "3406          43229   East  FUR-CH-10002965  Furniture       Chairs   \n",
       "3407          43229   East  FUR-CH-10002965  Furniture       Chairs   \n",
       "\n",
       "                                             Product Name    Sales  Quantity  \\\n",
       "Row ID                                                                         \n",
       "3406    Global Leather Highback Executive Chair with P...  281.372         2   \n",
       "3407    Global Leather Highback Executive Chair with P...  281.372         2   \n",
       "\n",
       "        Discount   Profit  \n",
       "Row ID                     \n",
       "3406         0.3 -12.0588  \n",
       "3407         0.3 -12.0588  "
      ]
     },
     "execution_count": 10,
     "metadata": {},
     "output_type": "execute_result"
    }
   ],
   "source": [
    "df.loc[df.duplicated(keep=False), :]"
   ]
  },
  {
   "cell_type": "code",
   "execution_count": 11,
   "id": "1b00be41",
   "metadata": {
    "execution": {
     "iopub.execute_input": "2023-02-03T16:41:17.690677Z",
     "iopub.status.busy": "2023-02-03T16:41:17.690189Z",
     "iopub.status.idle": "2023-02-03T16:41:17.719265Z",
     "shell.execute_reply": "2023-02-03T16:41:17.717312Z"
    },
    "papermill": {
     "duration": 0.047649,
     "end_time": "2023-02-03T16:41:17.722036",
     "exception": false,
     "start_time": "2023-02-03T16:41:17.674387",
     "status": "completed"
    },
    "tags": []
   },
   "outputs": [],
   "source": [
    "df=df.drop_duplicates()"
   ]
  },
  {
   "cell_type": "code",
   "execution_count": 12,
   "id": "fcedc30c",
   "metadata": {
    "execution": {
     "iopub.execute_input": "2023-02-03T16:41:17.750673Z",
     "iopub.status.busy": "2023-02-03T16:41:17.749363Z",
     "iopub.status.idle": "2023-02-03T16:41:17.907839Z",
     "shell.execute_reply": "2023-02-03T16:41:17.906359Z"
    },
    "papermill": {
     "duration": 0.175388,
     "end_time": "2023-02-03T16:41:17.910382",
     "exception": false,
     "start_time": "2023-02-03T16:41:17.734994",
     "status": "completed"
    },
    "tags": []
   },
   "outputs": [],
   "source": [
    "df[['Order Date','Ship Date']] = df[['Order Date','Ship Date']].apply(pd.to_datetime) \n",
    "df['Days'] = (df['Ship Date'] - df['Order Date']).dt.days"
   ]
  },
  {
   "cell_type": "code",
   "execution_count": 13,
   "id": "0e503f13",
   "metadata": {
    "execution": {
     "iopub.execute_input": "2023-02-03T16:41:17.938597Z",
     "iopub.status.busy": "2023-02-03T16:41:17.937283Z",
     "iopub.status.idle": "2023-02-03T16:41:18.204213Z",
     "shell.execute_reply": "2023-02-03T16:41:18.202645Z"
    },
    "papermill": {
     "duration": 0.283731,
     "end_time": "2023-02-03T16:41:18.206779",
     "exception": false,
     "start_time": "2023-02-03T16:41:17.923048",
     "status": "completed"
    },
    "tags": []
   },
   "outputs": [
    {
     "data": {
      "text/plain": [
       "<AxesSubplot:>"
      ]
     },
     "execution_count": 13,
     "metadata": {},
     "output_type": "execute_result"
    },
    {
     "data": {
      "image/png": "[encoded data removed]",
      "text/plain": [
       "<Figure size 648x432 with 1 Axes>"
      ]
     },
     "metadata": {
      "needs_background": "light"
     },
     "output_type": "display_data"
    }
   ],
   "source": [
    "plt.figure(figsize=(9,6))\n",
    "df['Order Date'].value_counts().nlargest(10).plot(kind='bar',cmap='gist_ncar')"
   ]
  },
  {
   "cell_type": "code",
   "execution_count": 14,
   "id": "029f710d",
   "metadata": {
    "execution": {
     "iopub.execute_input": "2023-02-03T16:41:18.233708Z",
     "iopub.status.busy": "2023-02-03T16:41:18.233330Z",
     "iopub.status.idle": "2023-02-03T16:41:18.434138Z",
     "shell.execute_reply": "2023-02-03T16:41:18.433338Z"
    },
    "papermill": {
     "duration": 0.216917,
     "end_time": "2023-02-03T16:41:18.436350",
     "exception": false,
     "start_time": "2023-02-03T16:41:18.219433",
     "status": "completed"
    },
    "tags": []
   },
   "outputs": [
    {
     "data": {
      "text/plain": [
       "<AxesSubplot:>"
      ]
     },
     "execution_count": 14,
     "metadata": {},
     "output_type": "execute_result"
    },
    {
     "data": {
      "image/png": "[encoded data removed]",
      "text/plain": [
       "<Figure size 648x432 with 1 Axes>"
      ]
     },
     "metadata": {
      "needs_background": "light"
     },
     "output_type": "display_data"
    }
   ],
   "source": [
    "plt.figure(figsize=(9,6))\n",
    "df['Ship Date'].value_counts().nlargest(10).plot(kind='bar',cmap='gist_ncar')"
   ]
  },
  {
   "cell_type": "markdown",
   "id": "ec383ae5",
   "metadata": {
    "papermill": {
     "duration": 0.013742,
     "end_time": "2023-02-03T16:41:18.463754",
     "exception": false,
     "start_time": "2023-02-03T16:41:18.450012",
     "status": "completed"
    },
    "tags": []
   },
   "source": [
    "# Independent Variables (categorical)"
   ]
  },
  {
   "cell_type": "code",
   "execution_count": 15,
   "id": "678b0b36",
   "metadata": {
    "execution": {
     "iopub.execute_input": "2023-02-03T16:41:18.494467Z",
     "iopub.status.busy": "2023-02-03T16:41:18.492945Z",
     "iopub.status.idle": "2023-02-03T16:41:18.651985Z",
     "shell.execute_reply": "2023-02-03T16:41:18.650841Z"
    },
    "papermill": {
     "duration": 0.177534,
     "end_time": "2023-02-03T16:41:18.655011",
     "exception": false,
     "start_time": "2023-02-03T16:41:18.477477",
     "status": "completed"
    },
    "tags": []
   },
   "outputs": [
    {
     "data": {
      "text/plain": [
       "<AxesSubplot:xlabel='count', ylabel='Ship Mode'>"
      ]
     },
     "execution_count": 15,
     "metadata": {},
     "output_type": "execute_result"
    },
    {
     "data": {
      "image/png": "[encoded data removed]",
      "text/plain": [
       "<Figure size 432x288 with 1 Axes>"
      ]
     },
     "metadata": {
      "needs_background": "light"
     },
     "output_type": "display_data"
    }
   ],
   "source": [
    "sns.countplot(y=df['Ship Mode'],palette='CMRmap')"
   ]
  },
  {
   "cell_type": "markdown",
   "id": "898ce0ac",
   "metadata": {
    "papermill": {
     "duration": 0.013212,
     "end_time": "2023-02-03T16:41:18.682601",
     "exception": false,
     "start_time": "2023-02-03T16:41:18.669389",
     "status": "completed"
    },
    "tags": []
   },
   "source": [
    "* Shipping through Standard Class is used most."
   ]
  },
  {
   "cell_type": "code",
   "execution_count": 16,
   "id": "d2857423",
   "metadata": {
    "execution": {
     "iopub.execute_input": "2023-02-03T16:41:18.713014Z",
     "iopub.status.busy": "2023-02-03T16:41:18.712536Z",
     "iopub.status.idle": "2023-02-03T16:41:18.849845Z",
     "shell.execute_reply": "2023-02-03T16:41:18.849057Z"
    },
    "papermill": {
     "duration": 0.15503,
     "end_time": "2023-02-03T16:41:18.851970",
     "exception": false,
     "start_time": "2023-02-03T16:41:18.696940",
     "status": "completed"
    },
    "tags": []
   },
   "outputs": [
    {
     "data": {
      "text/plain": [
       "<AxesSubplot:xlabel='count', ylabel='Category'>"
      ]
     },
     "execution_count": 16,
     "metadata": {},
     "output_type": "execute_result"
    },
    {
     "data": {
      "image/png": "[encoded data removed]",
      "text/plain": [
       "<Figure size 432x288 with 1 Axes>"
      ]
     },
     "metadata": {
      "needs_background": "light"
     },
     "output_type": "display_data"
    }
   ],
   "source": [
    "sns.countplot(y=df['Category'],palette='CMRmap')"
   ]
  },
  {
   "cell_type": "markdown",
   "id": "baa6a8a2",
   "metadata": {
    "papermill": {
     "duration": 0.013821,
     "end_time": "2023-02-03T16:41:18.883869",
     "exception": false,
     "start_time": "2023-02-03T16:41:18.870048",
     "status": "completed"
    },
    "tags": []
   },
   "source": [
    "* Most of ordered products belongs to Office Supplies category."
   ]
  },
  {
   "cell_type": "code",
   "execution_count": 17,
   "id": "b54b010e",
   "metadata": {
    "execution": {
     "iopub.execute_input": "2023-02-03T16:41:18.915053Z",
     "iopub.status.busy": "2023-02-03T16:41:18.914608Z",
     "iopub.status.idle": "2023-02-03T16:41:19.060048Z",
     "shell.execute_reply": "2023-02-03T16:41:19.059154Z"
    },
    "papermill": {
     "duration": 0.164399,
     "end_time": "2023-02-03T16:41:19.062536",
     "exception": false,
     "start_time": "2023-02-03T16:41:18.898137",
     "status": "completed"
    },
    "tags": []
   },
   "outputs": [
    {
     "data": {
      "text/plain": [
       "<AxesSubplot:xlabel='count', ylabel='Segment'>"
      ]
     },
     "execution_count": 17,
     "metadata": {},
     "output_type": "execute_result"
    },
    {
     "data": {
      "image/png": "[encoded data removed]",
      "text/plain": [
       "<Figure size 432x288 with 1 Axes>"
      ]
     },
     "metadata": {
      "needs_background": "light"
     },
     "output_type": "display_data"
    }
   ],
   "source": [
    "sns.countplot(y=df['Segment'],palette='CMRmap')"
   ]
  },
  {
   "cell_type": "markdown",
   "id": "beb70040",
   "metadata": {
    "papermill": {
     "duration": 0.014332,
     "end_time": "2023-02-03T16:41:19.093808",
     "exception": false,
     "start_time": "2023-02-03T16:41:19.079476",
     "status": "completed"
    },
    "tags": []
   },
   "source": [
    "* Most Customers are of Consumer Types."
   ]
  },
  {
   "cell_type": "code",
   "execution_count": 18,
   "id": "2910ad97",
   "metadata": {
    "execution": {
     "iopub.execute_input": "2023-02-03T16:41:19.125304Z",
     "iopub.status.busy": "2023-02-03T16:41:19.124531Z",
     "iopub.status.idle": "2023-02-03T16:41:19.237640Z",
     "shell.execute_reply": "2023-02-03T16:41:19.236813Z"
    },
    "papermill": {
     "duration": 0.131483,
     "end_time": "2023-02-03T16:41:19.239816",
     "exception": false,
     "start_time": "2023-02-03T16:41:19.108333",
     "status": "completed"
    },
    "tags": []
   },
   "outputs": [
    {
     "data": {
      "image/png": "[encoded data removed]",
      "text/plain": [
       "<Figure size 432x288 with 1 Axes>"
      ]
     },
     "metadata": {},
     "output_type": "display_data"
    }
   ],
   "source": [
    "df['Region'].value_counts().plot.pie(autopct='%1.0f%%',shadow=True,wedgeprops = {'linewidth': 2})\n",
    "plt.show()"
   ]
  },
  {
   "cell_type": "markdown",
   "id": "e980b04e",
   "metadata": {
    "papermill": {
     "duration": 0.019448,
     "end_time": "2023-02-03T16:41:19.278880",
     "exception": false,
     "start_time": "2023-02-03T16:41:19.259432",
     "status": "completed"
    },
    "tags": []
   },
   "source": [
    "* West region has more Customers than other regions."
   ]
  },
  {
   "cell_type": "code",
   "execution_count": 19,
   "id": "fdedfb6b",
   "metadata": {
    "execution": {
     "iopub.execute_input": "2023-02-03T16:41:19.319865Z",
     "iopub.status.busy": "2023-02-03T16:41:19.319425Z",
     "iopub.status.idle": "2023-02-03T16:41:19.520921Z",
     "shell.execute_reply": "2023-02-03T16:41:19.519118Z"
    },
    "papermill": {
     "duration": 0.224842,
     "end_time": "2023-02-03T16:41:19.523512",
     "exception": false,
     "start_time": "2023-02-03T16:41:19.298670",
     "status": "completed"
    },
    "tags": []
   },
   "outputs": [
    {
     "data": {
      "text/plain": [
       "<AxesSubplot:>"
      ]
     },
     "execution_count": 19,
     "metadata": {},
     "output_type": "execute_result"
    },
    {
     "data": {
      "image/png": "[encoded data removed]",
      "text/plain": [
       "<Figure size 432x288 with 1 Axes>"
      ]
     },
     "metadata": {
      "needs_background": "light"
     },
     "output_type": "display_data"
    }
   ],
   "source": [
    "df['Product Name'].value_counts().nlargest(10).plot(kind='bar',cmap='RdPu_r')"
   ]
  },
  {
   "cell_type": "markdown",
   "id": "cc67b897",
   "metadata": {
    "papermill": {
     "duration": 0.015736,
     "end_time": "2023-02-03T16:41:19.554544",
     "exception": false,
     "start_time": "2023-02-03T16:41:19.538808",
     "status": "completed"
    },
    "tags": []
   },
   "source": [
    "* staple envelope  is most ordered product."
   ]
  },
  {
   "cell_type": "code",
   "execution_count": 20,
   "id": "fcd61255",
   "metadata": {
    "execution": {
     "iopub.execute_input": "2023-02-03T16:41:19.587407Z",
     "iopub.status.busy": "2023-02-03T16:41:19.586969Z",
     "iopub.status.idle": "2023-02-03T16:41:19.803060Z",
     "shell.execute_reply": "2023-02-03T16:41:19.801786Z"
    },
    "papermill": {
     "duration": 0.235776,
     "end_time": "2023-02-03T16:41:19.805864",
     "exception": false,
     "start_time": "2023-02-03T16:41:19.570088",
     "status": "completed"
    },
    "tags": []
   },
   "outputs": [
    {
     "data": {
      "text/plain": [
       "<AxesSubplot:>"
      ]
     },
     "execution_count": 20,
     "metadata": {},
     "output_type": "execute_result"
    },
    {
     "data": {
      "image/png": "[encoded data removed]",
      "text/plain": [
       "<Figure size 432x288 with 1 Axes>"
      ]
     },
     "metadata": {
      "needs_background": "light"
     },
     "output_type": "display_data"
    }
   ],
   "source": [
    "df['Product Name'].value_counts().nsmallest(10).plot(kind='bar',cmap='RdPu_r')"
   ]
  },
  {
   "cell_type": "markdown",
   "id": "14504210",
   "metadata": {
    "papermill": {
     "duration": 0.016567,
     "end_time": "2023-02-03T16:41:19.838950",
     "exception": false,
     "start_time": "2023-02-03T16:41:19.822383",
     "status": "completed"
    },
    "tags": []
   },
   "source": [
    "# Independent Columns (numeric)\n"
   ]
  },
  {
   "cell_type": "code",
   "execution_count": 21,
   "id": "7995ebb0",
   "metadata": {
    "execution": {
     "iopub.execute_input": "2023-02-03T16:41:19.871894Z",
     "iopub.status.busy": "2023-02-03T16:41:19.871426Z",
     "iopub.status.idle": "2023-02-03T16:41:20.173042Z",
     "shell.execute_reply": "2023-02-03T16:41:20.171679Z"
    },
    "papermill": {
     "duration": 0.321173,
     "end_time": "2023-02-03T16:41:20.175718",
     "exception": false,
     "start_time": "2023-02-03T16:41:19.854545",
     "status": "completed"
    },
    "tags": []
   },
   "outputs": [
    {
     "name": "stderr",
     "output_type": "stream",
     "text": [
      "/opt/conda/lib/python3.7/site-packages/seaborn/distributions.py:2619: FutureWarning: `distplot` is a deprecated function and will be removed in a future version. Please adapt your code to use either `displot` (a figure-level function with similar flexibility) or `histplot` (an axes-level function for histograms).\n",
      "  warnings.warn(msg, FutureWarning)\n"
     ]
    },
    {
     "data": {
      "text/plain": [
       "<AxesSubplot:ylabel='Density'>"
      ]
     },
     "execution_count": 21,
     "metadata": {},
     "output_type": "execute_result"
    },
    {
     "data": {
      "image/png": "[encoded data removed]",
      "text/plain": [
       "<Figure size 432x288 with 1 Axes>"
      ]
     },
     "metadata": {
      "needs_background": "light"
     },
     "output_type": "display_data"
    }
   ],
   "source": [
    "sns.distplot(x=df['Sales'],color='r')"
   ]
  },
  {
   "cell_type": "code",
   "execution_count": 22,
   "id": "3404cc93",
   "metadata": {
    "execution": {
     "iopub.execute_input": "2023-02-03T16:41:20.209581Z",
     "iopub.status.busy": "2023-02-03T16:41:20.208654Z",
     "iopub.status.idle": "2023-02-03T16:41:20.478522Z",
     "shell.execute_reply": "2023-02-03T16:41:20.477299Z"
    },
    "papermill": {
     "duration": 0.289401,
     "end_time": "2023-02-03T16:41:20.480810",
     "exception": false,
     "start_time": "2023-02-03T16:41:20.191409",
     "status": "completed"
    },
    "tags": []
   },
   "outputs": [
    {
     "name": "stderr",
     "output_type": "stream",
     "text": [
      "/opt/conda/lib/python3.7/site-packages/seaborn/distributions.py:2619: FutureWarning: `distplot` is a deprecated function and will be removed in a future version. Please adapt your code to use either `displot` (a figure-level function with similar flexibility) or `histplot` (an axes-level function for histograms).\n",
      "  warnings.warn(msg, FutureWarning)\n"
     ]
    },
    {
     "data": {
      "text/plain": [
       "<AxesSubplot:ylabel='Density'>"
      ]
     },
     "execution_count": 22,
     "metadata": {},
     "output_type": "execute_result"
    },
    {
     "data": {
      "image/png": "[encoded data removed]",
      "text/plain": [
       "<Figure size 432x288 with 1 Axes>"
      ]
     },
     "metadata": {
      "needs_background": "light"
     },
     "output_type": "display_data"
    }
   ],
   "source": [
    "sns.distplot(x=df['Quantity'],color='r')"
   ]
  },
  {
   "cell_type": "code",
   "execution_count": 23,
   "id": "e28f55d8",
   "metadata": {
    "execution": {
     "iopub.execute_input": "2023-02-03T16:41:20.515722Z",
     "iopub.status.busy": "2023-02-03T16:41:20.515273Z",
     "iopub.status.idle": "2023-02-03T16:41:20.763735Z",
     "shell.execute_reply": "2023-02-03T16:41:20.761738Z"
    },
    "papermill": {
     "duration": 0.269472,
     "end_time": "2023-02-03T16:41:20.766603",
     "exception": false,
     "start_time": "2023-02-03T16:41:20.497131",
     "status": "completed"
    },
    "tags": []
   },
   "outputs": [
    {
     "name": "stderr",
     "output_type": "stream",
     "text": [
      "/opt/conda/lib/python3.7/site-packages/seaborn/distributions.py:2619: FutureWarning: `distplot` is a deprecated function and will be removed in a future version. Please adapt your code to use either `displot` (a figure-level function with similar flexibility) or `histplot` (an axes-level function for histograms).\n",
      "  warnings.warn(msg, FutureWarning)\n"
     ]
    },
    {
     "data": {
      "text/plain": [
       "<AxesSubplot:ylabel='Density'>"
      ]
     },
     "execution_count": 23,
     "metadata": {},
     "output_type": "execute_result"
    },
    {
     "data": {
      "image/png": "[encoded data removed]",
      "text/plain": [
       "<Figure size 432x288 with 1 Axes>"
      ]
     },
     "metadata": {
      "needs_background": "light"
     },
     "output_type": "display_data"
    }
   ],
   "source": [
    "sns.distplot(x=df['Discount'],color='r')"
   ]
  },
  {
   "cell_type": "code",
   "execution_count": 24,
   "id": "bce71913",
   "metadata": {
    "execution": {
     "iopub.execute_input": "2023-02-03T16:41:20.801867Z",
     "iopub.status.busy": "2023-02-03T16:41:20.801403Z",
     "iopub.status.idle": "2023-02-03T16:41:21.114148Z",
     "shell.execute_reply": "2023-02-03T16:41:21.113085Z"
    },
    "papermill": {
     "duration": 0.333109,
     "end_time": "2023-02-03T16:41:21.116331",
     "exception": false,
     "start_time": "2023-02-03T16:41:20.783222",
     "status": "completed"
    },
    "tags": []
   },
   "outputs": [
    {
     "name": "stderr",
     "output_type": "stream",
     "text": [
      "/opt/conda/lib/python3.7/site-packages/seaborn/distributions.py:2619: FutureWarning: `distplot` is a deprecated function and will be removed in a future version. Please adapt your code to use either `displot` (a figure-level function with similar flexibility) or `histplot` (an axes-level function for histograms).\n",
      "  warnings.warn(msg, FutureWarning)\n"
     ]
    },
    {
     "data": {
      "text/plain": [
       "<AxesSubplot:ylabel='Density'>"
      ]
     },
     "execution_count": 24,
     "metadata": {},
     "output_type": "execute_result"
    },
    {
     "data": {
      "image/png": "[encoded data removed]",
      "text/plain": [
       "<Figure size 432x288 with 1 Axes>"
      ]
     },
     "metadata": {
      "needs_background": "light"
     },
     "output_type": "display_data"
    }
   ],
   "source": [
    "sns.distplot(x=df['Profit'],color='r')"
   ]
  },
  {
   "cell_type": "markdown",
   "id": "ffe60007",
   "metadata": {
    "papermill": {
     "duration": 0.016567,
     "end_time": "2023-02-03T16:41:21.149875",
     "exception": false,
     "start_time": "2023-02-03T16:41:21.133308",
     "status": "completed"
    },
    "tags": []
   },
   "source": [
    "# Target Variable vs Independent Variables"
   ]
  },
  {
   "cell_type": "code",
   "execution_count": 25,
   "id": "a9365bd8",
   "metadata": {
    "execution": {
     "iopub.execute_input": "2023-02-03T16:41:21.185627Z",
     "iopub.status.busy": "2023-02-03T16:41:21.185192Z",
     "iopub.status.idle": "2023-02-03T16:41:21.569431Z",
     "shell.execute_reply": "2023-02-03T16:41:21.568120Z"
    },
    "papermill": {
     "duration": 0.405023,
     "end_time": "2023-02-03T16:41:21.571741",
     "exception": false,
     "start_time": "2023-02-03T16:41:21.166718",
     "status": "completed"
    },
    "tags": []
   },
   "outputs": [
    {
     "data": {
      "text/plain": [
       "<AxesSubplot:xlabel='Profit', ylabel='Sales'>"
      ]
     },
     "execution_count": 25,
     "metadata": {},
     "output_type": "execute_result"
    },
    {
     "data": {
      "image/png": "[encoded data removed]",
      "text/plain": [
       "<Figure size 432x288 with 1 Axes>"
      ]
     },
     "metadata": {
      "needs_background": "light"
     },
     "output_type": "display_data"
    }
   ],
   "source": [
    "sns.scatterplot(x=df['Profit'],y=df['Sales'],color='r')"
   ]
  },
  {
   "cell_type": "code",
   "execution_count": 26,
   "id": "f8368cd1",
   "metadata": {
    "execution": {
     "iopub.execute_input": "2023-02-03T16:41:21.608724Z",
     "iopub.status.busy": "2023-02-03T16:41:21.608277Z",
     "iopub.status.idle": "2023-02-03T16:41:21.821285Z",
     "shell.execute_reply": "2023-02-03T16:41:21.819866Z"
    },
    "papermill": {
     "duration": 0.234469,
     "end_time": "2023-02-03T16:41:21.823682",
     "exception": false,
     "start_time": "2023-02-03T16:41:21.589213",
     "status": "completed"
    },
    "tags": []
   },
   "outputs": [
    {
     "data": {
      "text/plain": [
       "<AxesSubplot:xlabel='Profit', ylabel='Quantity'>"
      ]
     },
     "execution_count": 26,
     "metadata": {},
     "output_type": "execute_result"
    },
    {
     "data": {
      "image/png": "[encoded data removed]",
      "text/plain": [
       "<Figure size 432x288 with 1 Axes>"
      ]
     },
     "metadata": {
      "needs_background": "light"
     },
     "output_type": "display_data"
    }
   ],
   "source": [
    "sns.scatterplot(x=df['Profit'],y=df['Quantity'],color='r')"
   ]
  },
  {
   "cell_type": "code",
   "execution_count": 27,
   "id": "e012f156",
   "metadata": {
    "execution": {
     "iopub.execute_input": "2023-02-03T16:41:21.863244Z",
     "iopub.status.busy": "2023-02-03T16:41:21.861279Z",
     "iopub.status.idle": "2023-02-03T16:41:22.090030Z",
     "shell.execute_reply": "2023-02-03T16:41:22.089324Z"
    },
    "papermill": {
     "duration": 0.250379,
     "end_time": "2023-02-03T16:41:22.091983",
     "exception": false,
     "start_time": "2023-02-03T16:41:21.841604",
     "status": "completed"
    },
    "tags": []
   },
   "outputs": [
    {
     "data": {
      "text/plain": [
       "<AxesSubplot:xlabel='Profit', ylabel='Discount'>"
      ]
     },
     "execution_count": 27,
     "metadata": {},
     "output_type": "execute_result"
    },
    {
     "data": {
      "image/png": "[encoded data removed]",
      "text/plain": [
       "<Figure size 432x288 with 1 Axes>"
      ]
     },
     "metadata": {
      "needs_background": "light"
     },
     "output_type": "display_data"
    }
   ],
   "source": [
    "sns.scatterplot(x=df['Profit'],y=df['Discount'],color='r')"
   ]
  },
  {
   "cell_type": "code",
   "execution_count": 28,
   "id": "fca94bba",
   "metadata": {
    "execution": {
     "iopub.execute_input": "2023-02-03T16:41:22.129884Z",
     "iopub.status.busy": "2023-02-03T16:41:22.129446Z",
     "iopub.status.idle": "2023-02-03T16:41:23.325593Z",
     "shell.execute_reply": "2023-02-03T16:41:23.323733Z"
    },
    "papermill": {
     "duration": 1.217993,
     "end_time": "2023-02-03T16:41:23.328432",
     "exception": false,
     "start_time": "2023-02-03T16:41:22.110439",
     "status": "completed"
    },
    "tags": []
   },
   "outputs": [
    {
     "data": {
      "image/png": "[encoded data removed]",
      "text/plain": [
       "<Figure size 720x504 with 4 Axes>"
      ]
     },
     "metadata": {
      "needs_background": "light"
     },
     "output_type": "display_data"
    }
   ],
   "source": [
    "fig,axes=plt.subplots(2,2,figsize=(10,7))\n",
    "sns.barplot(x=df['Ship Mode'],y=df['Profit'],palette='CMRmap',ax=axes[0,0])\n",
    "sns.barplot(x=df['Segment'],y=df['Profit'],palette='CMRmap',ax=axes[0,1])\n",
    "sns.barplot(x=df['Category'],y=df['Profit'],palette='CMRmap',ax=axes[1,0])\n",
    "sns.barplot(x=df['Region'],y=df['Profit'],palette='CMRmap',ax=axes[1,1])\n",
    "plt.tight_layout()\n",
    "plt.subplots_adjust()"
   ]
  },
  {
   "cell_type": "code",
   "execution_count": 29,
   "id": "e768b225",
   "metadata": {
    "execution": {
     "iopub.execute_input": "2023-02-03T16:41:23.367333Z",
     "iopub.status.busy": "2023-02-03T16:41:23.366904Z",
     "iopub.status.idle": "2023-02-03T16:41:23.604301Z",
     "shell.execute_reply": "2023-02-03T16:41:23.603308Z"
    },
    "papermill": {
     "duration": 0.25936,
     "end_time": "2023-02-03T16:41:23.606357",
     "exception": false,
     "start_time": "2023-02-03T16:41:23.346997",
     "status": "completed"
    },
    "tags": []
   },
   "outputs": [
    {
     "data": {
      "text/plain": [
       "<AxesSubplot:xlabel='Customer Name,Product Name'>"
      ]
     },
     "execution_count": 29,
     "metadata": {},
     "output_type": "execute_result"
    },
    {
     "data": {
      "image/png": "[encoded data removed]",
      "text/plain": [
       "<Figure size 432x288 with 1 Axes>"
      ]
     },
     "metadata": {
      "needs_background": "light"
     },
     "output_type": "display_data"
    }
   ],
   "source": [
    "df.groupby(['Customer Name','Product Name'])['Sales'].sum().nlargest(10).plot(kind='bar',cmap='gist_ncar')"
   ]
  },
  {
   "cell_type": "markdown",
   "id": "efbcb4d2",
   "metadata": {
    "papermill": {
     "duration": 0.019746,
     "end_time": "2023-02-03T16:41:23.645195",
     "exception": false,
     "start_time": "2023-02-03T16:41:23.625449",
     "status": "completed"
    },
    "tags": []
   },
   "source": [
    "# Label Encoding"
   ]
  },
  {
   "cell_type": "code",
   "execution_count": 30,
   "id": "ca3c4a61",
   "metadata": {
    "execution": {
     "iopub.execute_input": "2023-02-03T16:41:23.689483Z",
     "iopub.status.busy": "2023-02-03T16:41:23.689067Z",
     "iopub.status.idle": "2023-02-03T16:41:23.701677Z",
     "shell.execute_reply": "2023-02-03T16:41:23.700629Z"
    },
    "papermill": {
     "duration": 0.037513,
     "end_time": "2023-02-03T16:41:23.703766",
     "exception": false,
     "start_time": "2023-02-03T16:41:23.666253",
     "status": "completed"
    },
    "tags": []
   },
   "outputs": [
    {
     "data": {
      "text/plain": [
       "((9993, 20), (9993,))"
      ]
     },
     "execution_count": 30,
     "metadata": {},
     "output_type": "execute_result"
    }
   ],
   "source": [
    "X= df.drop('Profit',axis=1)\n",
    "Y= df['Profit']\n",
    "X.shape,Y.shape"
   ]
  },
  {
   "cell_type": "code",
   "execution_count": 31,
   "id": "ed6c6cc3",
   "metadata": {
    "execution": {
     "iopub.execute_input": "2023-02-03T16:41:23.744327Z",
     "iopub.status.busy": "2023-02-03T16:41:23.743838Z",
     "iopub.status.idle": "2023-02-03T16:41:23.834733Z",
     "shell.execute_reply": "2023-02-03T16:41:23.832961Z"
    },
    "papermill": {
     "duration": 0.114878,
     "end_time": "2023-02-03T16:41:23.837581",
     "exception": false,
     "start_time": "2023-02-03T16:41:23.722703",
     "status": "completed"
    },
    "tags": []
   },
   "outputs": [
    {
     "data": {
      "text/html": [
       "<div>\n",
       "<style scoped>\n",
       "    .dataframe tbody tr th:only-of-type {\n",
       "        vertical-align: middle;\n",
       "    }\n",
       "\n",
       "    .dataframe tbody tr th {\n",
       "        vertical-align: top;\n",
       "    }\n",
       "\n",
       "    .dataframe thead th {\n",
       "        text-align: right;\n",
       "    }\n",
       "</style>\n",
       "<table border=\"1\" class=\"dataframe\">\n",
       "  <thead>\n",
       "    <tr style=\"text-align: right;\">\n",
       "      <th></th>\n",
       "      <th>Order ID</th>\n",
       "      <th>Order Date</th>\n",
       "      <th>Ship Date</th>\n",
       "      <th>Ship Mode</th>\n",
       "      <th>Customer ID</th>\n",
       "      <th>Customer Name</th>\n",
       "      <th>Segment</th>\n",
       "      <th>Country</th>\n",
       "      <th>City</th>\n",
       "      <th>State</th>\n",
       "      <th>Postal Code</th>\n",
       "      <th>Region</th>\n",
       "      <th>Product ID</th>\n",
       "      <th>Category</th>\n",
       "      <th>Sub-Category</th>\n",
       "      <th>Product Name</th>\n",
       "      <th>Sales</th>\n",
       "      <th>Quantity</th>\n",
       "      <th>Discount</th>\n",
       "      <th>Days</th>\n",
       "    </tr>\n",
       "    <tr>\n",
       "      <th>Row ID</th>\n",
       "      <th></th>\n",
       "      <th></th>\n",
       "      <th></th>\n",
       "      <th></th>\n",
       "      <th></th>\n",
       "      <th></th>\n",
       "      <th></th>\n",
       "      <th></th>\n",
       "      <th></th>\n",
       "      <th></th>\n",
       "      <th></th>\n",
       "      <th></th>\n",
       "      <th></th>\n",
       "      <th></th>\n",
       "      <th></th>\n",
       "      <th></th>\n",
       "      <th></th>\n",
       "      <th></th>\n",
       "      <th></th>\n",
       "      <th></th>\n",
       "    </tr>\n",
       "  </thead>\n",
       "  <tbody>\n",
       "    <tr>\n",
       "      <th>1</th>\n",
       "      <td>2500</td>\n",
       "      <td>864</td>\n",
       "      <td>929</td>\n",
       "      <td>2</td>\n",
       "      <td>143</td>\n",
       "      <td>166</td>\n",
       "      <td>0</td>\n",
       "      <td>0</td>\n",
       "      <td>194</td>\n",
       "      <td>15</td>\n",
       "      <td>217</td>\n",
       "      <td>2</td>\n",
       "      <td>12</td>\n",
       "      <td>0</td>\n",
       "      <td>4</td>\n",
       "      <td>386</td>\n",
       "      <td>4205</td>\n",
       "      <td>1</td>\n",
       "      <td>0</td>\n",
       "      <td>3</td>\n",
       "    </tr>\n",
       "    <tr>\n",
       "      <th>2</th>\n",
       "      <td>2500</td>\n",
       "      <td>864</td>\n",
       "      <td>929</td>\n",
       "      <td>2</td>\n",
       "      <td>143</td>\n",
       "      <td>166</td>\n",
       "      <td>0</td>\n",
       "      <td>0</td>\n",
       "      <td>194</td>\n",
       "      <td>15</td>\n",
       "      <td>217</td>\n",
       "      <td>2</td>\n",
       "      <td>55</td>\n",
       "      <td>0</td>\n",
       "      <td>5</td>\n",
       "      <td>839</td>\n",
       "      <td>5219</td>\n",
       "      <td>2</td>\n",
       "      <td>0</td>\n",
       "      <td>3</td>\n",
       "    </tr>\n",
       "    <tr>\n",
       "      <th>3</th>\n",
       "      <td>2296</td>\n",
       "      <td>732</td>\n",
       "      <td>787</td>\n",
       "      <td>2</td>\n",
       "      <td>237</td>\n",
       "      <td>201</td>\n",
       "      <td>1</td>\n",
       "      <td>0</td>\n",
       "      <td>266</td>\n",
       "      <td>3</td>\n",
       "      <td>517</td>\n",
       "      <td>3</td>\n",
       "      <td>946</td>\n",
       "      <td>1</td>\n",
       "      <td>10</td>\n",
       "      <td>1433</td>\n",
       "      <td>969</td>\n",
       "      <td>1</td>\n",
       "      <td>0</td>\n",
       "      <td>4</td>\n",
       "    </tr>\n",
       "    <tr>\n",
       "      <th>4</th>\n",
       "      <td>4372</td>\n",
       "      <td>519</td>\n",
       "      <td>568</td>\n",
       "      <td>3</td>\n",
       "      <td>705</td>\n",
       "      <td>687</td>\n",
       "      <td>0</td>\n",
       "      <td>0</td>\n",
       "      <td>153</td>\n",
       "      <td>8</td>\n",
       "      <td>170</td>\n",
       "      <td>2</td>\n",
       "      <td>319</td>\n",
       "      <td>0</td>\n",
       "      <td>16</td>\n",
       "      <td>366</td>\n",
       "      <td>5392</td>\n",
       "      <td>4</td>\n",
       "      <td>7</td>\n",
       "      <td>7</td>\n",
       "    </tr>\n",
       "    <tr>\n",
       "      <th>5</th>\n",
       "      <td>4372</td>\n",
       "      <td>519</td>\n",
       "      <td>568</td>\n",
       "      <td>3</td>\n",
       "      <td>705</td>\n",
       "      <td>687</td>\n",
       "      <td>0</td>\n",
       "      <td>0</td>\n",
       "      <td>153</td>\n",
       "      <td>8</td>\n",
       "      <td>170</td>\n",
       "      <td>2</td>\n",
       "      <td>1316</td>\n",
       "      <td>1</td>\n",
       "      <td>14</td>\n",
       "      <td>573</td>\n",
       "      <td>1360</td>\n",
       "      <td>1</td>\n",
       "      <td>3</td>\n",
       "      <td>7</td>\n",
       "    </tr>\n",
       "  </tbody>\n",
       "</table>\n",
       "</div>"
      ],
      "text/plain": [
       "        Order ID  Order Date  Ship Date  Ship Mode  Customer ID  \\\n",
       "Row ID                                                            \n",
       "1           2500         864        929          2          143   \n",
       "2           2500         864        929          2          143   \n",
       "3           2296         732        787          2          237   \n",
       "4           4372         519        568          3          705   \n",
       "5           4372         519        568          3          705   \n",
       "\n",
       "        Customer Name  Segment  Country  City  State  Postal Code  Region  \\\n",
       "Row ID                                                                      \n",
       "1                 166        0        0   194     15          217       2   \n",
       "2                 166        0        0   194     15          217       2   \n",
       "3                 201        1        0   266      3          517       3   \n",
       "4                 687        0        0   153      8          170       2   \n",
       "5                 687        0        0   153      8          170       2   \n",
       "\n",
       "        Product ID  Category  Sub-Category  Product Name  Sales  Quantity  \\\n",
       "Row ID                                                                      \n",
       "1               12         0             4           386   4205         1   \n",
       "2               55         0             5           839   5219         2   \n",
       "3              946         1            10          1433    969         1   \n",
       "4              319         0            16           366   5392         4   \n",
       "5             1316         1            14           573   1360         1   \n",
       "\n",
       "        Discount  Days  \n",
       "Row ID                  \n",
       "1              0     3  \n",
       "2              0     3  \n",
       "3              0     4  \n",
       "4              7     7  \n",
       "5              3     7  "
      ]
     },
     "execution_count": 31,
     "metadata": {},
     "output_type": "execute_result"
    }
   ],
   "source": [
    "X_enc = X.copy()\n",
    "for col in X.columns:\n",
    "    lb = LabelEncoder() \n",
    "    X_enc[col] = lb.fit_transform(X[col].values)\n",
    "    \n",
    "X_enc.head()"
   ]
  },
  {
   "cell_type": "code",
   "execution_count": 32,
   "id": "a20c3f29",
   "metadata": {
    "execution": {
     "iopub.execute_input": "2023-02-03T16:41:23.880210Z",
     "iopub.status.busy": "2023-02-03T16:41:23.879743Z",
     "iopub.status.idle": "2023-02-03T16:41:23.888383Z",
     "shell.execute_reply": "2023-02-03T16:41:23.886825Z"
    },
    "papermill": {
     "duration": 0.03301,
     "end_time": "2023-02-03T16:41:23.890610",
     "exception": false,
     "start_time": "2023-02-03T16:41:23.857600",
     "status": "completed"
    },
    "tags": []
   },
   "outputs": [
    {
     "data": {
      "text/plain": [
       "((9993, 20), (9993, 20))"
      ]
     },
     "execution_count": 32,
     "metadata": {},
     "output_type": "execute_result"
    }
   ],
   "source": [
    "X.shape, X_enc.shape"
   ]
  },
  {
   "cell_type": "markdown",
   "id": "7864c69d",
   "metadata": {
    "papermill": {
     "duration": 0.019187,
     "end_time": "2023-02-03T16:41:23.930126",
     "exception": false,
     "start_time": "2023-02-03T16:41:23.910939",
     "status": "completed"
    },
    "tags": []
   },
   "source": [
    "# Train_test_split"
   ]
  },
  {
   "cell_type": "code",
   "execution_count": 33,
   "id": "66393a0c",
   "metadata": {
    "execution": {
     "iopub.execute_input": "2023-02-03T16:41:23.970909Z",
     "iopub.status.busy": "2023-02-03T16:41:23.970492Z",
     "iopub.status.idle": "2023-02-03T16:41:23.989420Z",
     "shell.execute_reply": "2023-02-03T16:41:23.987738Z"
    },
    "papermill": {
     "duration": 0.042367,
     "end_time": "2023-02-03T16:41:23.992028",
     "exception": false,
     "start_time": "2023-02-03T16:41:23.949661",
     "status": "completed"
    },
    "tags": []
   },
   "outputs": [],
   "source": [
    "X_train, X_test, y_train, y_test = train_test_split(X_enc, Y)"
   ]
  },
  {
   "cell_type": "code",
   "execution_count": 34,
   "id": "8288b9f0",
   "metadata": {
    "execution": {
     "iopub.execute_input": "2023-02-03T16:41:24.047485Z",
     "iopub.status.busy": "2023-02-03T16:41:24.047039Z",
     "iopub.status.idle": "2023-02-03T16:41:24.106986Z",
     "shell.execute_reply": "2023-02-03T16:41:24.105277Z"
    },
    "papermill": {
     "duration": 0.09181,
     "end_time": "2023-02-03T16:41:24.109334",
     "exception": false,
     "start_time": "2023-02-03T16:41:24.017524",
     "status": "completed"
    },
    "tags": []
   },
   "outputs": [
    {
     "data": {
      "text/plain": [
       "(0.08935263057301446, 0.06406207259309094)"
      ]
     },
     "execution_count": 34,
     "metadata": {},
     "output_type": "execute_result"
    }
   ],
   "source": [
    "lr = LinearRegression()\n",
    "lr.fit(X_train, y_train)\n",
    "lr.score(X_train ,y_train) ,lr.score(X_test ,y_test)\n"
   ]
  },
  {
   "cell_type": "code",
   "execution_count": 35,
   "id": "f40966bc",
   "metadata": {
    "execution": {
     "iopub.execute_input": "2023-02-03T16:41:24.199931Z",
     "iopub.status.busy": "2023-02-03T16:41:24.199416Z",
     "iopub.status.idle": "2023-02-03T16:41:25.146134Z",
     "shell.execute_reply": "2023-02-03T16:41:25.143846Z"
    },
    "papermill": {
     "duration": 0.993102,
     "end_time": "2023-02-03T16:41:25.149510",
     "exception": false,
     "start_time": "2023-02-03T16:41:24.156408",
     "status": "completed"
    },
    "tags": []
   },
   "outputs": [
    {
     "data": {
      "text/plain": [
       "0.08739445594645878"
      ]
     },
     "execution_count": 35,
     "metadata": {},
     "output_type": "execute_result"
    }
   ],
   "source": [
    "model = KNeighborsRegressor(n_neighbors=8)\n",
    "model.fit(X_train, y_train)\n",
    "pred_y = model.predict(X_test)\n",
    "model.score(X_test,y_test)"
   ]
  },
  {
   "cell_type": "code",
   "execution_count": 36,
   "id": "213f5fd4",
   "metadata": {
    "execution": {
     "iopub.execute_input": "2023-02-03T16:41:25.193414Z",
     "iopub.status.busy": "2023-02-03T16:41:25.192767Z",
     "iopub.status.idle": "2023-02-03T16:41:25.267971Z",
     "shell.execute_reply": "2023-02-03T16:41:25.267085Z"
    },
    "papermill": {
     "duration": 0.100699,
     "end_time": "2023-02-03T16:41:25.270208",
     "exception": false,
     "start_time": "2023-02-03T16:41:25.169509",
     "status": "completed"
    },
    "tags": []
   },
   "outputs": [
    {
     "data": {
      "text/plain": [
       "0.6625436224341519"
      ]
     },
     "execution_count": 36,
     "metadata": {},
     "output_type": "execute_result"
    }
   ],
   "source": [
    "\n",
    "X_train, X_test, y_train, y_test = train_test_split(X_enc, Y)\n",
    "model = DecisionTreeRegressor(max_depth=8,min_samples_leaf=5)\n",
    "model.fit(X_train, y_train)\n",
    "y_pred = model.predict(X_test)\n",
    "model.score(X_test,y_test)"
   ]
  },
  {
   "cell_type": "code",
   "execution_count": 37,
   "id": "ddc26d91",
   "metadata": {
    "execution": {
     "iopub.execute_input": "2023-02-03T16:41:25.316012Z",
     "iopub.status.busy": "2023-02-03T16:41:25.315596Z",
     "iopub.status.idle": "2023-02-03T16:41:25.326547Z",
     "shell.execute_reply": "2023-02-03T16:41:25.325217Z"
    },
    "papermill": {
     "duration": 0.037699,
     "end_time": "2023-02-03T16:41:25.329379",
     "exception": false,
     "start_time": "2023-02-03T16:41:25.291680",
     "status": "completed"
    },
    "tags": []
   },
   "outputs": [
    {
     "data": {
      "text/plain": [
       "0.8008880566443495"
      ]
     },
     "execution_count": 37,
     "metadata": {},
     "output_type": "execute_result"
    }
   ],
   "source": [
    "model.score(X_train,y_train)"
   ]
  },
  {
   "cell_type": "code",
   "execution_count": 38,
   "id": "7950a9f7",
   "metadata": {
    "execution": {
     "iopub.execute_input": "2023-02-03T16:41:25.374470Z",
     "iopub.status.busy": "2023-02-03T16:41:25.373810Z",
     "iopub.status.idle": "2023-02-03T16:41:25.382391Z",
     "shell.execute_reply": "2023-02-03T16:41:25.379767Z"
    },
    "papermill": {
     "duration": 0.034884,
     "end_time": "2023-02-03T16:41:25.385628",
     "exception": false,
     "start_time": "2023-02-03T16:41:25.350744",
     "status": "completed"
    },
    "tags": []
   },
   "outputs": [
    {
     "data": {
      "text/plain": [
       "array([0.00000000e+00, 0.00000000e+00, 0.00000000e+00, 0.00000000e+00,\n",
       "       2.14536383e-03, 0.00000000e+00, 0.00000000e+00, 0.00000000e+00,\n",
       "       2.65379534e-04, 7.37722962e-03, 6.14646042e-04, 0.00000000e+00,\n",
       "       1.55805563e-02, 4.19775787e-04, 2.95283303e-02, 7.28712838e-04,\n",
       "       7.32101623e-01, 1.25483689e-03, 2.09983546e-01, 0.00000000e+00])"
      ]
     },
     "execution_count": 38,
     "metadata": {},
     "output_type": "execute_result"
    }
   ],
   "source": [
    "model.feature_importances_"
   ]
  },
  {
   "cell_type": "code",
   "execution_count": 39,
   "id": "4ae5c7a4",
   "metadata": {
    "execution": {
     "iopub.execute_input": "2023-02-03T16:41:25.429594Z",
     "iopub.status.busy": "2023-02-03T16:41:25.429169Z",
     "iopub.status.idle": "2023-02-03T16:41:25.442863Z",
     "shell.execute_reply": "2023-02-03T16:41:25.441819Z"
    },
    "papermill": {
     "duration": 0.038114,
     "end_time": "2023-02-03T16:41:25.445009",
     "exception": false,
     "start_time": "2023-02-03T16:41:25.406895",
     "status": "completed"
    },
    "tags": []
   },
   "outputs": [
    {
     "data": {
      "text/html": [
       "<div>\n",
       "<style scoped>\n",
       "    .dataframe tbody tr th:only-of-type {\n",
       "        vertical-align: middle;\n",
       "    }\n",
       "\n",
       "    .dataframe tbody tr th {\n",
       "        vertical-align: top;\n",
       "    }\n",
       "\n",
       "    .dataframe thead th {\n",
       "        text-align: right;\n",
       "    }\n",
       "</style>\n",
       "<table border=\"1\" class=\"dataframe\">\n",
       "  <thead>\n",
       "    <tr style=\"text-align: right;\">\n",
       "      <th></th>\n",
       "      <th>importance</th>\n",
       "    </tr>\n",
       "  </thead>\n",
       "  <tbody>\n",
       "    <tr>\n",
       "      <th>Order ID</th>\n",
       "      <td>0.000000</td>\n",
       "    </tr>\n",
       "    <tr>\n",
       "      <th>Region</th>\n",
       "      <td>0.000000</td>\n",
       "    </tr>\n",
       "    <tr>\n",
       "      <th>Country</th>\n",
       "      <td>0.000000</td>\n",
       "    </tr>\n",
       "    <tr>\n",
       "      <th>Segment</th>\n",
       "      <td>0.000000</td>\n",
       "    </tr>\n",
       "    <tr>\n",
       "      <th>Customer Name</th>\n",
       "      <td>0.000000</td>\n",
       "    </tr>\n",
       "    <tr>\n",
       "      <th>Days</th>\n",
       "      <td>0.000000</td>\n",
       "    </tr>\n",
       "    <tr>\n",
       "      <th>Ship Mode</th>\n",
       "      <td>0.000000</td>\n",
       "    </tr>\n",
       "    <tr>\n",
       "      <th>Ship Date</th>\n",
       "      <td>0.000000</td>\n",
       "    </tr>\n",
       "    <tr>\n",
       "      <th>Order Date</th>\n",
       "      <td>0.000000</td>\n",
       "    </tr>\n",
       "    <tr>\n",
       "      <th>City</th>\n",
       "      <td>0.000265</td>\n",
       "    </tr>\n",
       "    <tr>\n",
       "      <th>Category</th>\n",
       "      <td>0.000420</td>\n",
       "    </tr>\n",
       "    <tr>\n",
       "      <th>Postal Code</th>\n",
       "      <td>0.000615</td>\n",
       "    </tr>\n",
       "    <tr>\n",
       "      <th>Product Name</th>\n",
       "      <td>0.000729</td>\n",
       "    </tr>\n",
       "    <tr>\n",
       "      <th>Quantity</th>\n",
       "      <td>0.001255</td>\n",
       "    </tr>\n",
       "    <tr>\n",
       "      <th>Customer ID</th>\n",
       "      <td>0.002145</td>\n",
       "    </tr>\n",
       "    <tr>\n",
       "      <th>State</th>\n",
       "      <td>0.007377</td>\n",
       "    </tr>\n",
       "    <tr>\n",
       "      <th>Product ID</th>\n",
       "      <td>0.015581</td>\n",
       "    </tr>\n",
       "    <tr>\n",
       "      <th>Sub-Category</th>\n",
       "      <td>0.029528</td>\n",
       "    </tr>\n",
       "    <tr>\n",
       "      <th>Discount</th>\n",
       "      <td>0.209984</td>\n",
       "    </tr>\n",
       "    <tr>\n",
       "      <th>Sales</th>\n",
       "      <td>0.732102</td>\n",
       "    </tr>\n",
       "  </tbody>\n",
       "</table>\n",
       "</div>"
      ],
      "text/plain": [
       "               importance\n",
       "Order ID         0.000000\n",
       "Region           0.000000\n",
       "Country          0.000000\n",
       "Segment          0.000000\n",
       "Customer Name    0.000000\n",
       "Days             0.000000\n",
       "Ship Mode        0.000000\n",
       "Ship Date        0.000000\n",
       "Order Date       0.000000\n",
       "City             0.000265\n",
       "Category         0.000420\n",
       "Postal Code      0.000615\n",
       "Product Name     0.000729\n",
       "Quantity         0.001255\n",
       "Customer ID      0.002145\n",
       "State            0.007377\n",
       "Product ID       0.015581\n",
       "Sub-Category     0.029528\n",
       "Discount         0.209984\n",
       "Sales            0.732102"
      ]
     },
     "execution_count": 39,
     "metadata": {},
     "output_type": "execute_result"
    }
   ],
   "source": [
    "feature_importance = pd.DataFrame({'importance': model.feature_importances_}, index= X.columns).sort_values('importance')\n",
    "feature_importance"
   ]
  },
  {
   "cell_type": "code",
   "execution_count": 40,
   "id": "2b0f6f9b",
   "metadata": {
    "execution": {
     "iopub.execute_input": "2023-02-03T16:41:25.488173Z",
     "iopub.status.busy": "2023-02-03T16:41:25.487574Z",
     "iopub.status.idle": "2023-02-03T16:41:25.493486Z",
     "shell.execute_reply": "2023-02-03T16:41:25.492223Z"
    },
    "papermill": {
     "duration": 0.031282,
     "end_time": "2023-02-03T16:41:25.496608",
     "exception": false,
     "start_time": "2023-02-03T16:41:25.465326",
     "status": "completed"
    },
    "tags": []
   },
   "outputs": [],
   "source": [
    "feature=feature_importance[feature_importance.importance >=0.01].index\n",
    "x_enc_=X_enc[feature]\n"
   ]
  },
  {
   "cell_type": "code",
   "execution_count": 41,
   "id": "dc48e32b",
   "metadata": {
    "execution": {
     "iopub.execute_input": "2023-02-03T16:41:25.546046Z",
     "iopub.status.busy": "2023-02-03T16:41:25.543898Z",
     "iopub.status.idle": "2023-02-03T16:41:25.552188Z",
     "shell.execute_reply": "2023-02-03T16:41:25.551103Z"
    },
    "papermill": {
     "duration": 0.035752,
     "end_time": "2023-02-03T16:41:25.554925",
     "exception": false,
     "start_time": "2023-02-03T16:41:25.519173",
     "status": "completed"
    },
    "tags": []
   },
   "outputs": [],
   "source": [
    "param_dist = {\"max_depth\": [3, None],\n",
    "              \"max_features\": range(1, 11),\n",
    "              \"min_samples_split\": range(2, 11),\n",
    "              \"criterion\": ['squared_error', 'friedman_mse', 'absolute_error', 'poisson']}"
   ]
  },
  {
   "cell_type": "code",
   "execution_count": 42,
   "id": "7915d346",
   "metadata": {
    "execution": {
     "iopub.execute_input": "2023-02-03T16:41:25.598021Z",
     "iopub.status.busy": "2023-02-03T16:41:25.597001Z",
     "iopub.status.idle": "2023-02-03T16:41:29.523499Z",
     "shell.execute_reply": "2023-02-03T16:41:29.521913Z"
    },
    "papermill": {
     "duration": 3.950483,
     "end_time": "2023-02-03T16:41:29.525765",
     "exception": false,
     "start_time": "2023-02-03T16:41:25.575282",
     "status": "completed"
    },
    "tags": []
   },
   "outputs": [
    {
     "data": {
      "text/plain": [
       "(0.7622900621891102, 0.6097400342132304)"
      ]
     },
     "execution_count": 42,
     "metadata": {},
     "output_type": "execute_result"
    }
   ],
   "source": [
    "random_search = RandomizedSearchCV(model, param_distributions=param_dist, n_iter=10, cv=5)\n",
    "random_search.fit(X_train, y_train)\n",
    "random_search.score(X_train,y_train),random_search.score(X_test,y_test)"
   ]
  },
  {
   "cell_type": "code",
   "execution_count": 43,
   "id": "60a37295",
   "metadata": {
    "execution": {
     "iopub.execute_input": "2023-02-03T16:41:29.571119Z",
     "iopub.status.busy": "2023-02-03T16:41:29.570448Z",
     "iopub.status.idle": "2023-02-03T16:41:29.575821Z",
     "shell.execute_reply": "2023-02-03T16:41:29.574470Z"
    },
    "papermill": {
     "duration": 0.031118,
     "end_time": "2023-02-03T16:41:29.578154",
     "exception": false,
     "start_time": "2023-02-03T16:41:29.547036",
     "status": "completed"
    },
    "tags": []
   },
   "outputs": [],
   "source": [
    "# use a full grid over all parameters\n",
    "param_grid = {\"max_depth\": [1,2,3],\n",
    "              \"max_features\": [1,2,3,4],\n",
    "              \"min_samples_split\": [ 3,4,5],\"criterion\": ['squared_error', 'friedman_mse', 'absolute_error', 'poisson']}"
   ]
  },
  {
   "cell_type": "code",
   "execution_count": 44,
   "id": "4fd30d6a",
   "metadata": {
    "execution": {
     "iopub.execute_input": "2023-02-03T16:41:29.622630Z",
     "iopub.status.busy": "2023-02-03T16:41:29.621830Z",
     "iopub.status.idle": "2023-02-03T16:42:24.819471Z",
     "shell.execute_reply": "2023-02-03T16:42:24.818156Z"
    },
    "papermill": {
     "duration": 55.223697,
     "end_time": "2023-02-03T16:42:24.822385",
     "exception": false,
     "start_time": "2023-02-03T16:41:29.598688",
     "status": "completed"
    },
    "tags": []
   },
   "outputs": [
    {
     "name": "stderr",
     "output_type": "stream",
     "text": [
      "/opt/conda/lib/python3.7/site-packages/sklearn/model_selection/_validation.py:372: FitFailedWarning: \n",
      "180 fits failed out of a total of 720.\n",
      "The score on these train-test partitions for these parameters will be set to nan.\n",
      "If these failures are not expected, you can try to debug them by setting error_score='raise'.\n",
      "\n",
      "Below are more details about the failures:\n",
      "--------------------------------------------------------------------------------\n",
      "180 fits failed with the following error:\n",
      "Traceback (most recent call last):\n",
      "  File \"/opt/conda/lib/python3.7/site-packages/sklearn/model_selection/_validation.py\", line 680, in _fit_and_score\n",
      "    estimator.fit(X_train, y_train, **fit_params)\n",
      "  File \"/opt/conda/lib/python3.7/site-packages/sklearn/tree/_classes.py\", line 1320, in fit\n",
      "    X_idx_sorted=X_idx_sorted,\n",
      "  File \"/opt/conda/lib/python3.7/site-packages/sklearn/tree/_classes.py\", line 179, in fit\n",
      "    \"Some value(s) of y are negative which is\"\n",
      "ValueError: Some value(s) of y are negative which is not allowed for Poisson regression.\n",
      "\n",
      "  warnings.warn(some_fits_failed_message, FitFailedWarning)\n",
      "/opt/conda/lib/python3.7/site-packages/sklearn/model_selection/_search.py:972: UserWarning: One or more of the test scores are non-finite: [ 2.04943490e-02  1.10315228e-01 -6.43857861e-02 -4.53480972e-04\n",
      " -4.53480972e-04  8.28913319e-02  1.77670893e-01  8.28913319e-02\n",
      "  9.71241868e-02  8.28913319e-02  8.28913319e-02  8.28913319e-02\n",
      "  1.87011624e-01  5.59099747e-02  1.46422054e-01  7.46992471e-02\n",
      "  9.19099138e-02  7.93695147e-02  2.91248314e-02 -1.65827205e-02\n",
      "  8.80951542e-02 -4.16256740e-02  1.08503006e-01  8.80951542e-02\n",
      " -1.35013361e-02 -3.97827410e-02  2.82007960e-01  1.70277316e-01\n",
      "  1.71637585e-01  4.01283598e-01  5.12919345e-02  1.52091468e-01\n",
      "  2.40805253e-01  4.75138863e-03  3.47197381e-01  3.25794777e-01\n",
      " -8.08822846e-02  1.00960525e-01  9.55958678e-02  1.54589199e-02\n",
      "  1.78910909e-01 -5.90981560e-02  1.12616244e-01  9.43498647e-02\n",
      "  1.24074777e-01  8.28913319e-02  8.28913319e-02  8.28913319e-02\n",
      "  3.83090662e-02 -4.07355281e-02  4.72431844e-02  1.16954504e-01\n",
      " -1.05797681e-01  4.97386225e-02  1.06769792e-01 -4.54785532e-02\n",
      "  1.41237968e-01 -1.70647545e-01  8.80951542e-02 -4.09267167e-02\n",
      " -1.61996619e-01  3.81148064e-02 -7.80387656e-02  3.48741144e-01\n",
      "  2.12529944e-01  2.39411929e-01  4.61336056e-02  2.71563409e-01\n",
      "  2.74020008e-01  1.25889827e-01  3.47197381e-01  3.25794777e-01\n",
      "  3.14911392e-02  1.84029730e-02  2.80815275e-04  4.92765828e-02\n",
      "  4.11533787e-02  5.86581982e-02  4.22632919e-02  4.92765828e-02\n",
      "  3.17717633e-02  4.92765828e-02  4.92765828e-02  4.92765828e-02\n",
      "  6.26988262e-02  3.32209544e-02  2.26872498e-02  3.31267236e-01\n",
      " -3.29364032e-02  7.47789839e-02  2.95282587e-01  2.31962017e-01\n",
      "  1.25130905e-01  2.29999770e-01  2.29999770e-01  2.29999770e-01\n",
      "  5.52157461e-02  1.50959840e-01  6.44515911e-02  1.77692332e-01\n",
      "  3.91081032e-01  8.13409815e-02  2.14770840e-01  3.16006013e-01\n",
      "  3.90547521e-01  5.55327750e-01  5.55327750e-01  5.55327750e-01\n",
      "             nan             nan             nan             nan\n",
      "             nan             nan             nan             nan\n",
      "             nan             nan             nan             nan\n",
      "             nan             nan             nan             nan\n",
      "             nan             nan             nan             nan\n",
      "             nan             nan             nan             nan\n",
      "             nan             nan             nan             nan\n",
      "             nan             nan             nan             nan\n",
      "             nan             nan             nan             nan]\n",
      "  category=UserWarning,\n"
     ]
    },
    {
     "name": "stdout",
     "output_type": "stream",
     "text": [
      "DecisionTreeRegressor(criterion='absolute_error', max_depth=3, max_features=4,\n",
      "                      min_samples_split=3)\n"
     ]
    },
    {
     "data": {
      "text/plain": [
       "(0.6738121493767208, 0.4848119491024391)"
      ]
     },
     "execution_count": 44,
     "metadata": {},
     "output_type": "execute_result"
    }
   ],
   "source": [
    "\n",
    "X_train, X_test, y_train, y_test = train_test_split(X_enc[feature], Y)\n",
    "model = DecisionTreeRegressor()\n",
    "grid_search = GridSearchCV(model, param_grid=param_grid, cv=5)\n",
    "# random_search = RandomizedSearchCV(model, param_distributions=param_dist, n_iter=10, cv=5)\n",
    "grid_search.fit(X_train, y_train)\n",
    "# y_pred = grid_search.predict(X_test)\n",
    "print(grid_search.best_estimator_)\n",
    "grid_search.score(X_train,y_train),grid_search.score(X_test,y_test)"
   ]
  },
  {
   "cell_type": "code",
   "execution_count": 45,
   "id": "bdc3e84b",
   "metadata": {
    "execution": {
     "iopub.execute_input": "2023-02-03T16:42:24.866351Z",
     "iopub.status.busy": "2023-02-03T16:42:24.865726Z",
     "iopub.status.idle": "2023-02-03T16:42:25.809362Z",
     "shell.execute_reply": "2023-02-03T16:42:25.808295Z"
    },
    "papermill": {
     "duration": 0.968139,
     "end_time": "2023-02-03T16:42:25.811651",
     "exception": false,
     "start_time": "2023-02-03T16:42:24.843512",
     "status": "completed"
    },
    "tags": []
   },
   "outputs": [
    {
     "data": {
      "text/plain": [
       "(0.9331598686566258, 0.7845984552802934)"
      ]
     },
     "execution_count": 45,
     "metadata": {},
     "output_type": "execute_result"
    }
   ],
   "source": [
    "reg=RandomForestRegressor(n_estimators=100,max_depth=7,random_state=5)\n",
    "X_train, X_test, y_train, y_test = train_test_split(X_enc[feature], Y)\n",
    "reg.fit(X_train, y_train)\n",
    "reg.score(X_train,y_train),reg.score(X_test,y_test)"
   ]
  }
 ],
 "metadata": {
  "kernelspec": {
   "display_name": "Python 3",
   "language": "python",
   "name": "python3"
  },
  "language_info": {
   "codemirror_mode": {
    "name": "ipython",
    "version": 3
   },
   "file_extension": ".py",
   "mimetype": "text/x-python",
   "name": "python",
   "nbconvert_exporter": "python",
   "pygments_lexer": "ipython3",
   "version": "3.7.12"
  },
  "papermill": {
   "default_parameters": {},
   "duration": 80.228505,
   "end_time": "2023-02-03T16:42:26.959458",
   "environment_variables": {},
   "exception": null,
   "input_path": "__notebook__.ipynb",
   "output_path": "__notebook__.ipynb",
   "parameters": {},
   "start_time": "2023-02-03T16:41:06.730953",
   "version": "2.3.4"
  }
 },
 "nbformat": 4,
 "nbformat_minor": 5
}
